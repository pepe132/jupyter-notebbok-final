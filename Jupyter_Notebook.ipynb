{
 "cells": [
  {
   "cell_type": "markdown",
   "id": "9c5e64dc-2bc7-4640-9b71-877eda7b6100",
   "metadata": {},
   "source": [
    "<center>\n",
    "    <img src=\"https://cf-courses-data.s3.us.cloud-object-storage.appdomain.cloud/IBMDeveloperSkillsNetwork-DS0105EN-SkillsNetwork/labs/Module2/images/SN_web_lightmode.png\" width=\"300\" alt=\"cognitiveclass.ai logo\">\n",
    "</center>\n"
   ]
  },
  {
   "cell_type": "markdown",
   "id": "bca0d27a-24c6-4c43-b116-c73c8d9ab219",
   "metadata": {},
   "source": [
    "# Jupyter Notebook Assignment\n"
   ]
  },
  {
   "cell_type": "markdown",
   "metadata": {},
   "source": [
    "### This is an introduction for the final exam, it consists on making a different exercises about commands and cells management into jupyter notebook"
   ]
  },
  {
   "cell_type": "markdown",
   "metadata": {},
   "source": [
    "### Data science languages\n",
    "1. Python\n",
    "1. R\n",
    "1. SQL\n",
    "1. Java\n",
    "1. C  \n",
    "1. C++ o Scala"
   ]
  },
  {
   "cell_type": "markdown",
   "metadata": {},
   "source": [
    "### Libraries for data science\n",
    "- numpy\n",
    "- pandas\n",
    "- scipy\n",
    "- seaborn\n",
    "- matplotlib"
   ]
  },
  {
   "cell_type": "markdown",
   "metadata": {},
   "source": [
    "|Herramientas para la ciencia de datos|\n",
    "|-------------------------------------|\n",
    "|Spark|\n",
    "|Hadoop|\n",
    "|Airflow|\n",
    "|kafka|"
   ]
  },
  {
   "cell_type": "markdown",
   "metadata": {},
   "source": [
    "### Arithmetic expression: This are used to make arithmetic operations (+,-,/,*,%)\n"
   ]
  },
  {
   "cell_type": "code",
   "execution_count": 1,
   "metadata": {},
   "outputs": [
    {
     "name": "stdout",
     "output_type": "stream",
     "text": [
      "20\n",
      "9\n"
     ]
    }
   ],
   "source": [
    "a=5\n",
    "b=4\n",
    "print(a*b)\n",
    "print(a+b)"
   ]
  },
  {
   "cell_type": "code",
   "execution_count": 3,
   "metadata": {},
   "outputs": [
    {
     "name": "stdout",
     "output_type": "stream",
     "text": [
      "Hours= 2\n",
      "Minutes= 38\n"
     ]
    }
   ],
   "source": [
    "min=158 #minutos\n",
    "h=min//60\n",
    "m=min%60\n",
    "print(\"Hours=\",h)\n",
    "print(\"Minutes=\",m)"
   ]
  },
  {
   "cell_type": "markdown",
   "metadata": {},
   "source": [
    "### below of this, it shows an unordered list"
   ]
  },
  {
   "cell_type": "code",
   "execution_count": 4,
   "metadata": {},
   "outputs": [
    {
     "name": "stdout",
     "output_type": "stream",
     "text": [
      "1. AprenderDominar\n",
      "2. Visualizar\n",
      "3. Aplicar\n",
      "4. ImplementarDesarrollar\n",
      "5. Comprender\n"
     ]
    }
   ],
   "source": [
    "# Lista de objetivos\n",
    "objetivos = [\n",
    "    \"Aprender\"\n",
    "    \"Dominar\",\n",
    "    \"Visualizar\",\n",
    "    \"Aplicar\",\n",
    "    \"Implementar\" \n",
    "    \"Desarrollar\",\n",
    "    \"Comprender\"\n",
    "]\n",
    "\n",
    "# Mostrar los objetivos\n",
    "for i, objetivo in enumerate(objetivos, 1):\n",
    "    print(f\"{i}. {objetivo}\")"
   ]
  },
  {
   "cell_type": "markdown",
   "metadata": {},
   "source": [
    "### Author: José Dominguez"
   ]
  }
 ],
 "metadata": {
  "kernelspec": {
   "display_name": "Python 3",
   "language": "python",
   "name": "python3"
  },
  "language_info": {
   "codemirror_mode": {
    "name": "ipython",
    "version": 3
   },
   "file_extension": ".py",
   "mimetype": "text/x-python",
   "name": "python",
   "nbconvert_exporter": "python",
   "pygments_lexer": "ipython3",
   "version": "3.11.0"
  },
  "prev_pub_hash": "9e1985db9844176462bd1d5863048c9f3d17404bbc6a648be9084b0c42b29347"
 },
 "nbformat": 4,
 "nbformat_minor": 4
}
